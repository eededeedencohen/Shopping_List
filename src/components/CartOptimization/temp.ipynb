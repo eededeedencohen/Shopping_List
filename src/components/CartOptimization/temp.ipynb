{
 "cells": [
  {
   "cell_type": "code",
   "execution_count": 3,
   "id": "bec9a851",
   "metadata": {},
   "outputs": [
    {
     "name": "stdout",
     "output_type": "stream",
     "text": [
      "27 JavaScript files written with content to js_files.txt\n"
     ]
    }
   ],
   "source": [
    "import os\n",
    "\n",
    "def find_js_files(start_path='.'):\n",
    "    js_files = []\n",
    "    for root, dirs, files in os.walk(start_path):\n",
    "        for file in files:\n",
    "            if file.endswith('.js'):\n",
    "                full_path = os.path.join(root, file)\n",
    "                relative_path = os.path.relpath(full_path, start_path)\n",
    "                js_files.append((full_path, relative_path))\n",
    "    return js_files\n",
    "\n",
    "def write_file_contents_to_txt(js_files, output_file='js_files.txt'):\n",
    "    with open(output_file, 'w', encoding='utf-8') as f:\n",
    "        for full_path, relative_path in js_files:\n",
    "            f.write(f'=== {relative_path} ===\\n')\n",
    "            try:\n",
    "                with open(full_path, 'r', encoding='utf-8') as js_file:\n",
    "                    content = js_file.read()\n",
    "                    f.write(content + '\\n\\n')\n",
    "            except Exception as e:\n",
    "                f.write(f'[Error reading file: {e}]\\n\\n')\n",
    "\n",
    "if __name__ == '__main__':\n",
    "    current_dir = os.getcwd()\n",
    "    js_files = find_js_files(current_dir)\n",
    "    write_file_contents_to_txt(js_files)\n",
    "    print(f'{len(js_files)} JavaScript files written with content to js_files.txt')\n"
   ]
  }
 ],
 "metadata": {
  "kernelspec": {
   "display_name": "Python 3",
   "language": "python",
   "name": "python3"
  },
  "language_info": {
   "codemirror_mode": {
    "name": "ipython",
    "version": 3
   },
   "file_extension": ".py",
   "mimetype": "text/x-python",
   "name": "python",
   "nbconvert_exporter": "python",
   "pygments_lexer": "ipython3",
   "version": "3.11.5"
  }
 },
 "nbformat": 4,
 "nbformat_minor": 5
}
