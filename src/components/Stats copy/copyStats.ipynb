{
 "cells": [
  {
   "cell_type": "code",
   "execution_count": 1,
   "id": "753e395d",
   "metadata": {},
   "outputs": [
    {
     "name": "stdout",
     "output_type": "stream",
     "text": [
      "✔︎ נשמרו 13 קבצים אל C:\\Year5th\\Final_Project_SoftwareEngineering_frontend\\FinalProject\\src\\components\\Stats\\all_code.txt\n"
     ]
    }
   ],
   "source": [
    "from pathlib import Path\n",
    "\n",
    "# קובץ הפלט\n",
    "OUTPUT_FILE = Path(\"all_code.txt\")\n",
    "\n",
    "def gather_code_files(directory: Path, extensions={\".js\", \".css\"}):\n",
    "    \"\"\"\n",
    "    מחזיר רשימת קבצים עם סיומות רצויות מתוך התקייה (כולל תת-תקיות).\n",
    "    \"\"\"\n",
    "    return sorted([p for p in directory.rglob(\"*\") if p.suffix in extensions])\n",
    "\n",
    "def write_files_to_txt(files, output_path: Path):\n",
    "    \"\"\"\n",
    "    כותב את שם הקובץ ותוכנו אל קובץ הטקסט, במבנה המבוקש.\n",
    "    \"\"\"\n",
    "    with output_path.open(\"w\", encoding=\"utf-8\") as out:\n",
    "        for f in files:\n",
    "            out.write(f\"=== {f.name} ===\\n\")\n",
    "            out.write(f.read_text(encoding='utf-8', errors='ignore'))\n",
    "            out.write(\"\\n\\n\")\n",
    "    print(f\"✔︎ נשמרו {len(files)} קבצים אל {output_path.resolve()}\")\n",
    "\n",
    "if __name__ == \"__main__\":\n",
    "    current_dir = Path.cwd()\n",
    "    code_files = gather_code_files(current_dir)\n",
    "    write_files_to_txt(code_files, OUTPUT_FILE)\n"
   ]
  }
 ],
 "metadata": {
  "kernelspec": {
   "display_name": "Python 3",
   "language": "python",
   "name": "python3"
  },
  "language_info": {
   "codemirror_mode": {
    "name": "ipython",
    "version": 3
   },
   "file_extension": ".py",
   "mimetype": "text/x-python",
   "name": "python",
   "nbconvert_exporter": "python",
   "pygments_lexer": "ipython3",
   "version": "3.11.5"
  }
 },
 "nbformat": 4,
 "nbformat_minor": 5
}
