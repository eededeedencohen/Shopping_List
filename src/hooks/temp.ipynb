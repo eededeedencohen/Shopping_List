{
 "cells": [
  {
   "cell_type": "code",
   "execution_count": 3,
   "id": "103a4a20",
   "metadata": {},
   "outputs": [
    {
     "name": "stdout",
     "output_type": "stream",
     "text": [
      "All JS files (including subdirectories) have been merged into output.txt!\n"
     ]
    }
   ],
   "source": [
    "# Copy JS files content into one TXT file, including subdirectories\n",
    "import os\n",
    "\n",
    "# Define the output file\n",
    "output_filename = \"output.txt\"\n",
    "\n",
    "# Get current directory\n",
    "current_directory = os.getcwd()\n",
    "\n",
    "# Open the output file for writing\n",
    "with open(output_filename, \"w\", encoding=\"utf-8\") as outfile:\n",
    "    # Walk through all directories and files\n",
    "    for root, dirs, files in os.walk(current_directory):\n",
    "        for filename in files:\n",
    "            if filename.endswith(\".js\"):\n",
    "                # Build the full path\n",
    "                full_path = os.path.join(root, filename)\n",
    "                # Create a relative path for better readability\n",
    "                relative_path = os.path.relpath(full_path, current_directory)\n",
    "                \n",
    "                # Write the filename\n",
    "                outfile.write(f\"{relative_path}:\\n\\n\")\n",
    "                \n",
    "                # Write the content\n",
    "                with open(full_path, \"r\", encoding=\"utf-8\") as infile:\n",
    "                    content = infile.read()\n",
    "                    outfile.write(content)\n",
    "                \n",
    "                # Add separation between files\n",
    "                outfile.write(\"\\n\\n\\n\")\n",
    "\n",
    "print(f\"All JS files (including subdirectories) have been merged into {output_filename}!\")\n"
   ]
  }
 ],
 "metadata": {
  "kernelspec": {
   "display_name": "Python 3",
   "language": "python",
   "name": "python3"
  },
  "language_info": {
   "codemirror_mode": {
    "name": "ipython",
    "version": 3
   },
   "file_extension": ".py",
   "mimetype": "text/x-python",
   "name": "python",
   "nbconvert_exporter": "python",
   "pygments_lexer": "ipython3",
   "version": "3.11.5"
  }
 },
 "nbformat": 4,
 "nbformat_minor": 5
}
